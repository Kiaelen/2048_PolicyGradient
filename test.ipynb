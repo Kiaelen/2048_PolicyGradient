{
 "cells": [
  {
   "cell_type": "code",
   "execution_count": null,
   "metadata": {},
   "outputs": [
    {
     "name": "stdout",
     "output_type": "stream",
     "text": [
      "Game over!!!\n",
      "Your final score: 1420\n",
      "Your final game board:\n",
      "2\t128\t4\t2\t\n",
      "8\t64\t8\t16\t\n",
      "32\t8\t32\t2\t\n",
      "2\t4\t2\t16\t\n"
     ]
    }
   ],
   "source": [
    "from env import Game\n",
    "import random\n",
    "\n",
    "game = Game()\n",
    "\n",
    "while(not game.end_game):\n",
    "    a = random.randint(0, 3)\n",
    "    game.step(0)\n",
    "    \n",
    "game.print()\n",
    "    "
   ]
  }
 ],
 "metadata": {
  "kernelspec": {
   "display_name": "base",
   "language": "python",
   "name": "python3"
  },
  "language_info": {
   "codemirror_mode": {
    "name": "ipython",
    "version": 3
   },
   "file_extension": ".py",
   "mimetype": "text/x-python",
   "name": "python",
   "nbconvert_exporter": "python",
   "pygments_lexer": "ipython3",
   "version": "3.11.5"
  }
 },
 "nbformat": 4,
 "nbformat_minor": 2
}
